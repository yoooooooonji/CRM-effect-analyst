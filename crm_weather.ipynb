{
 "cells": [
  {
   "cell_type": "code",
   "execution_count": 8,
   "metadata": {},
   "outputs": [
    {
     "name": "stdout",
     "output_type": "stream",
     "text": [
      "/Users/yj.noh/Documents/GitHub\n"
     ]
    }
   ],
   "source": [
    "import pandas as pd\n",
    "import numpy as np\n",
    "import os\n",
    "import joblib\n",
    "import matplotlib.pyplot as plt\n",
    "import statsmodels.api as sm\n",
    "from datetime import datetime\n",
    "import seaborn as sns\n",
    "from sklearn.preprocessing import OneHotEncoder\n",
    "from sklearn.preprocessing import StandardScaler\n",
    "from sklearn.preprocessing import MinMaxScaler\n",
    "from sklearn.linear_model import LogisticRegression\n",
    "from sklearn.model_selection import train_test_split, cross_val_score\n",
    "from sklearn.metrics import log_loss, roc_auc_score, recall_score, precision_score, average_precision_score, f1_score, classification_report, accuracy_score,confusion_matrix, silhouette_score\n",
    "from statsmodels.stats.outliers_influence import variance_inflation_factor\n",
    "\n",
    "from sklearn.cluster import KMeans, AgglomerativeClustering, DBSCAN\n",
    "from sklearn.datasets import make_blobs\n",
    "\n",
    "\n",
    "import warnings\n",
    "warnings.filterwarnings(\"ignore\")\n",
    "os.chdir(\"/Users/yj.noh/Documents/GitHub\")\n",
    "print(os.getcwd())"
   ]
  },
  {
   "cell_type": "code",
   "execution_count": 9,
   "metadata": {},
   "outputs": [
    {
     "name": "stdout",
     "output_type": "stream",
     "text": [
      "                                              mem_no crm_group      region  \\\n",
      "0  927C0506EFE9D22B02DD8D01D858393E9BAABB9E3B5EEF...         B  서울특별시 서대문구   \n",
      "1  43299BB8FC4A77A089B15FF8D4665F66D701F8876AF2EE...         B   서울특별시 강남구   \n",
      "\n",
      "   cnt_913  cnt_920  cnt_dinner_913  cnt_dinner_920  cnt_single_913  \\\n",
      "0        7       10               0               0               0   \n",
      "1       27        0               7               0               5   \n",
      "\n",
      "   cnt_common_913  cnt_bmart_913  cnt_single_920  cnt_common_920  \\\n",
      "0               0              0               0               0   \n",
      "1               2              0               0               0   \n",
      "\n",
      "   cnt_bmart_920          first_time  \n",
      "0              0 2023-09-20 11:08:18  \n",
      "1              0                 NaT  \n",
      "(7125, 14)\n"
     ]
    }
   ],
   "source": [
    "data = pd.read_excel(\"/Users/yj.noh/Desktop/crm_rain.xlsx\")\n",
    "print(data.head(2))\n",
    "print(data.shape)"
   ]
  },
  {
   "cell_type": "code",
   "execution_count": 10,
   "metadata": {},
   "outputs": [
    {
     "name": "stdout",
     "output_type": "stream",
     "text": [
      "mem_no               0\n",
      "crm_group            0\n",
      "region              34\n",
      "cnt_913              0\n",
      "cnt_920              0\n",
      "cnt_dinner_913       0\n",
      "cnt_dinner_920       0\n",
      "cnt_single_913       0\n",
      "cnt_common_913       0\n",
      "cnt_bmart_913        0\n",
      "cnt_single_920       0\n",
      "cnt_common_920       0\n",
      "cnt_bmart_920        0\n",
      "first_time        2494\n",
      "dtype: int64\n"
     ]
    }
   ],
   "source": [
    "print(data.isna().sum())"
   ]
  },
  {
   "cell_type": "code",
   "execution_count": 11,
   "metadata": {},
   "outputs": [
    {
     "name": "stdout",
     "output_type": "stream",
     "text": [
      "                                              mem_no crm_group      region  \\\n",
      "0  927C0506EFE9D22B02DD8D01D858393E9BAABB9E3B5EEF...         B  서울특별시 서대문구   \n",
      "1  43299BB8FC4A77A089B15FF8D4665F66D701F8876AF2EE...         B   서울특별시 강남구   \n",
      "\n",
      "   cnt_913  cnt_920  cnt_dinner_913  cnt_dinner_920  cnt_single_913  \\\n",
      "0        7       10               0               0               0   \n",
      "1       27        0               7               0               5   \n",
      "\n",
      "   cnt_common_913  cnt_bmart_913  cnt_single_920  cnt_common_920  \\\n",
      "0               0              0               0               0   \n",
      "1               2              0               0               0   \n",
      "\n",
      "   cnt_bmart_920          first_time  is_react  \n",
      "0              0 2023-09-20 11:08:18         0  \n",
      "1              0                 NaT         2  \n"
     ]
    }
   ],
   "source": [
    "threshold_time = pd.to_datetime('2023-09-20 16:30', format='%Y-%m-%d %H:%M')\n",
    "data['first_time'] = pd.to_datetime(data['first_time'], errors='coerce',format='%Y-%m-%d %H:%M')\n",
    "#data['is_react'] = np.where(data['first_time'].notnull() & (data['first_time'] < threshold_time), 0, 1)\n",
    "\n",
    "data['is_react'] = 2\n",
    "data.loc[data['first_time'].notnull() & (data['first_time'] < threshold_time), 'is_react'] = 0 #문자 받기 전 나옴\n",
    "data.loc[data['first_time'].notnull() & (data['first_time'] >= threshold_time), 'is_react'] = 1 #문자 받고 나옴\n",
    "\n",
    "print(data.head(2))\n",
    "\n"
   ]
  },
  {
   "cell_type": "code",
   "execution_count": 12,
   "metadata": {},
   "outputs": [],
   "source": [
    "data['is_check'] = np.where(data['cnt_dinner_920'] >= 7, 1, 0)"
   ]
  },
  {
   "cell_type": "code",
   "execution_count": 13,
   "metadata": {},
   "outputs": [
    {
     "name": "stdout",
     "output_type": "stream",
     "text": [
      "is_react\n",
      "0    2907\n",
      "2    2494\n",
      "1    1724\n",
      "Name: count, dtype: int64\n",
      "is_check\n",
      "0    4637\n",
      "1    2488\n",
      "Name: count, dtype: int64\n"
     ]
    }
   ],
   "source": [
    "print(data['is_react'].value_counts()) # 2907 / 1724/ 2494\n",
    "print(data['is_check'].value_counts()) #0 : 46347 1:2488"
   ]
  },
  {
   "cell_type": "code",
   "execution_count": 14,
   "metadata": {},
   "outputs": [],
   "source": [
    "data.to_excel(\"/Users/yj.noh/Desktop/crm_rain.xlsx\", index  = False)"
   ]
  }
 ],
 "metadata": {
  "kernelspec": {
   "display_name": ".venv",
   "language": "python",
   "name": "python3"
  },
  "language_info": {
   "codemirror_mode": {
    "name": "ipython",
    "version": 3
   },
   "file_extension": ".py",
   "mimetype": "text/x-python",
   "name": "python",
   "nbconvert_exporter": "python",
   "pygments_lexer": "ipython3",
   "version": "3.9.6"
  },
  "orig_nbformat": 4
 },
 "nbformat": 4,
 "nbformat_minor": 2
}
