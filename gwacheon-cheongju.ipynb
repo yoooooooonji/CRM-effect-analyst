{
 "cells": [
  {
   "cell_type": "code",
   "execution_count": 1,
   "metadata": {},
   "outputs": [
    {
     "name": "stdout",
     "output_type": "stream",
     "text": [
      "/Users/yj.noh/Documents/GitHub\n"
     ]
    }
   ],
   "source": [
    "import pandas as pd\n",
    "import numpy as np\n",
    "import os\n",
    "import matplotlib.pyplot as plt\n",
    "import warnings\n",
    "\n",
    "warnings.filterwarnings(\"ignore\")\n",
    "os.chdir(\"/Users/yj.noh/Documents/GitHub\")\n",
    "print(os.getcwd())\n",
    "plt.rcParams['font.family'] = 'AppleGothic'"
   ]
  },
  {
   "attachments": {},
   "cell_type": "markdown",
   "metadata": {},
   "source": [
    "## 1. data_load"
   ]
  },
  {
   "cell_type": "code",
   "execution_count": 4,
   "metadata": {},
   "outputs": [
    {
     "name": "stdout",
     "output_type": "stream",
     "text": [
      "     ord_date  ord_hour rgn1_nm rgn2_nm service_type      order_no  \\\n",
      "0  2023-11-02         0   서울특별시     서초구    B1_SINGLE  T1N700003SY0   \n",
      "1  2023-11-02         0   서울특별시     강남구    B1_SINGLE  T1N700003Q91   \n",
      "\n",
      "                                       brms_rider_id crm_group  \n",
      "0  760D4C189F32EA366376E7892D774259E60A3C053DD286...    gyungi  \n",
      "1  760D4C189F32EA366376E7892D774259E60A3C053DD286...    gyungi  \n",
      "ord_date         0\n",
      "ord_hour         0\n",
      "rgn1_nm          0\n",
      "rgn2_nm          0\n",
      "service_type     0\n",
      "order_no         0\n",
      "brms_rider_id    0\n",
      "crm_group        0\n",
      "dtype: int64\n"
     ]
    }
   ],
   "source": [
    "data = pd.read_csv(\"/Users/yj.noh/Desktop/gwacheon_cheongju.csv\", encoding = \"utf-8\")\n",
    "print(data.head(2))\n",
    "print(data.isna().sum())"
   ]
  },
  {
   "cell_type": "code",
   "execution_count": null,
   "metadata": {},
   "outputs": [],
   "source": [
    "# 라이더별로 "
   ]
  }
 ],
 "metadata": {
  "kernelspec": {
   "display_name": ".venv",
   "language": "python",
   "name": "python3"
  },
  "language_info": {
   "codemirror_mode": {
    "name": "ipython",
    "version": 3
   },
   "file_extension": ".py",
   "mimetype": "text/x-python",
   "name": "python",
   "nbconvert_exporter": "python",
   "pygments_lexer": "ipython3",
   "version": "3.9.6"
  },
  "orig_nbformat": 4
 },
 "nbformat": 4,
 "nbformat_minor": 2
}
