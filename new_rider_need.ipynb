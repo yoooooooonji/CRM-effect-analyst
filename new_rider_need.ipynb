{
 "cells": [
  {
   "cell_type": "code",
   "execution_count": 7,
   "metadata": {},
   "outputs": [
    {
     "name": "stdout",
     "output_type": "stream",
     "text": [
      "/Users/yj.noh/Documents/GitHub\n"
     ]
    }
   ],
   "source": [
    "import pandas as pd\n",
    "import numpy as np\n",
    "import os\n",
    "import matplotlib.pyplot as plt\n",
    "import warnings\n",
    "import seaborn as sns\n",
    "\n",
    "warnings.filterwarnings(\"ignore\")\n",
    "os.chdir(\"/Users/yj.noh/Documents/GitHub\")\n",
    "print(os.getcwd())\n",
    "plt.rcParams['font.family'] = 'AppleGothic'"
   ]
  },
  {
   "cell_type": "code",
   "execution_count": 5,
   "metadata": {},
   "outputs": [
    {
     "name": "stdout",
     "output_type": "stream",
     "text": [
      "     base_day rgn1_nm::filter  rgn2_nm    r_value    dr_value  \\\n",
      "0  2023-10-12            경상남도  창원시 의창구  24.840764   15.941538   \n",
      "1  2023-10-31             경기도  성남시 중원구  27.771619  114.145309   \n",
      "\n",
      "   rider_cnt_within_28days  rider_cnt  dlvry_cnt  avg_consign_min  \\\n",
      "0                      314         78      396.0         4.100084   \n",
      "1                     1804        501     3170.0         2.471094   \n",
      "\n",
      "   baemin1_single_limited_time  weather_fee  \n",
      "0                          0.0          0.0  \n",
      "1                          0.0          0.0  \n",
      "base_day                         0\n",
      "rgn1_nm::filter                  0\n",
      "rgn2_nm                          0\n",
      "r_value                          0\n",
      "dr_value                       128\n",
      "rider_cnt_within_28days          0\n",
      "rider_cnt                        0\n",
      "dlvry_cnt                      128\n",
      "avg_consign_min                128\n",
      "baemin1_single_limited_time    148\n",
      "weather_fee                    130\n",
      "dtype: int64\n",
      "(8993, 11)\n"
     ]
    }
   ],
   "source": [
    "data = pd.read_excel(\"/Users/yj.noh/Desktop/new_rider_need_rgn.xlsx\")\n",
    "print(data.head(2))\n",
    "print(data.isna().sum())\n",
    "print(data.shape)"
   ]
  },
  {
   "cell_type": "code",
   "execution_count": 6,
   "metadata": {},
   "outputs": [
    {
     "name": "stdout",
     "output_type": "stream",
     "text": [
      "(8865, 11)\n"
     ]
    }
   ],
   "source": [
    "data = data[data['dr_value'].notnull()]\n",
    "print(data.shape) #8,865 "
   ]
  },
  {
   "cell_type": "code",
   "execution_count": 10,
   "metadata": {},
   "outputs": [
    {
     "data": {
      "text/plain": [
       "<Axes: ylabel='r_value'>"
      ]
     },
     "execution_count": 10,
     "metadata": {},
     "output_type": "execute_result"
    },
    {
     "data": {
      "image/png": "[encoded data removed]",
      "text/plain": [
       "<Figure size 640x480 with 1 Axes>"
      ]
     },
     "metadata": {},
     "output_type": "display_data"
    }
   ],
   "source": [
    "sns.boxplot(y = data['r_value'], data =data)"
   ]
  },
  {
   "cell_type": "code",
   "execution_count": null,
   "metadata": {},
   "outputs": [],
   "source": [
    "def plot_numeric (data, numeric_vars, outcome):\n",
    "    \n",
    "    palette = 'coolwarm'\n",
    "    \n",
    "    for num_var in numeric_vars:\n",
    "        fig, axs = plt.subplots(1,3, figsize=(12,4))\n",
    "        fig.suptitle(f'{num_var}', fontsize = 12)\n",
    "    \n",
    "        # Boxplot\n",
    "        sns.boxplot(ax=axs[0], x= outcome, y=num_var, data= data, palette = palette)\n",
    "        axs[0].set_title('Boxplot')\n",
    "    \n",
    "        # Violinplot\n",
    "        sns.violinplot(ax=axs[1], x = outcome, y = num_var, data = data, palette = palette)\n",
    "        axs[1].set_title('Violinplot')\n",
    "        \n",
    "        # KDE plot\n",
    "        sns.kdeplot(ax=axs[2], data = data, x = num_var, hue = outcome, fill = True, common_norm = False, palette = palette, alpha=.5, linewidth=0)\n",
    "        axs[2].set_title('Density plot')\n",
    "        \n",
    "        plt.tight_layout()\n",
    "        fig.subplots_adjust(top=0.8) # title 공간 확보\n",
    "        \n",
    "        plt.show()\n",
    "        plt.close(fig)"
   ]
  },
  {
   "cell_type": "code",
   "execution_count": 19,
   "metadata": {},
   "outputs": [
    {
     "name": "stdout",
     "output_type": "stream",
     "text": [
      "            median       mean       std\n",
      "rgn2_nm                                \n",
      "강남구      36.901448  36.848465  1.681972\n",
      "강동구      30.616175  31.643985  2.675382\n",
      "강릉시      37.500000  37.422775  3.655884\n",
      "강북구      28.591451  28.499372  2.297986\n",
      "강서구      29.316822  28.063628  6.389687\n",
      "...            ...        ...       ...\n",
      "포항시 남구   37.055838  36.946797  2.808694\n",
      "포항시 북구   39.545455  39.584209  3.308134\n",
      "하남시      25.216522  26.083332  2.646290\n",
      "해운대구     26.568266  27.133550  2.162392\n",
      "화성시      28.180473  28.519965  2.319751\n",
      "\n",
      "[127 rows x 3 columns]\n"
     ]
    }
   ],
   "source": [
    "median_rvalue = data.groupby('rgn2_nm')['r_value'].median()\n",
    "mean_rvalue = data.groupby('rgn2_nm')['r_value'].mean()\n",
    "std_rvalue = data.groupby('rgn2_nm')['r_value'].std()\n",
    "\n",
    "table = pd.concat([median_rvalue, mean_rvalue, std_rvalue], keys = ['median', 'mean', 'std'],  axis = 1)\n",
    "print(table)\n"
   ]
  },
  {
   "cell_type": "code",
   "execution_count": null,
   "metadata": {},
   "outputs": [],
   "source": []
  },
  {
   "cell_type": "code",
   "execution_count": null,
   "metadata": {},
   "outputs": [],
   "source": []
  }
 ],
 "metadata": {
  "kernelspec": {
   "display_name": ".venv",
   "language": "python",
   "name": "python3"
  },
  "language_info": {
   "codemirror_mode": {
    "name": "ipython",
    "version": 3
   },
   "file_extension": ".py",
   "mimetype": "text/x-python",
   "name": "python",
   "nbconvert_exporter": "python",
   "pygments_lexer": "ipython3",
   "version": "3.9.6"
  },
  "orig_nbformat": 4
 },
 "nbformat": 4,
 "nbformat_minor": 2
}
